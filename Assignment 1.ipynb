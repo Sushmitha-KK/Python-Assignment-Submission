{
 "cells": [
  {
   "cell_type": "code",
   "execution_count": 31,
   "metadata": {},
   "outputs": [
    {
     "data": {
      "text/plain": [
       "10.0"
      ]
     },
     "execution_count": 31,
     "metadata": {},
     "output_type": "execute_result"
    }
   ],
   "source": [
    "#1. Write a program find square root of a number.\n",
    "\n",
    "x = 100\n",
    "import math\n",
    "math.sqrt(x)"
   ]
  },
  {
   "cell_type": "code",
   "execution_count": 4,
   "metadata": {},
   "outputs": [
    {
     "name": "stdout",
     "output_type": "stream",
     "text": [
      "Enter the height5\n",
      "Enter the base10\n"
     ]
    },
    {
     "data": {
      "text/plain": [
       "25.0"
      ]
     },
     "execution_count": 4,
     "metadata": {},
     "output_type": "execute_result"
    }
   ],
   "source": [
    "#2. Python Program to find the area of triangle\n",
    "\n",
    "height = float(input(\"Enter the height\"))\n",
    "base = float(input(\"Enter the base\"))\n",
    "area = 0.5*height*base\n",
    "area"
   ]
  },
  {
   "cell_type": "code",
   "execution_count": 5,
   "metadata": {},
   "outputs": [
    {
     "name": "stdout",
     "output_type": "stream",
     "text": [
      "enter 1st value1\n",
      "enter 2nd value2\n",
      "values before the swap 1 2\n",
      "values after the swap 2 1\n"
     ]
    }
   ],
   "source": [
    "#3. Python program to swap two variables provided by the user without temporary variable\n",
    "\n",
    "input1 = int(input(\"enter 1st value\"))\n",
    "input2 = int(input(\"enter 2nd value\"))\n",
    "print(\"values before the swap\",input1,input2)\n",
    "input1 = input1+input2\n",
    "input2 = input1-input2\n",
    "input1 = input1-input2\n",
    "print(\"values after the swap\",input1,input2)\n",
    "\n"
   ]
  },
  {
   "cell_type": "code",
   "execution_count": 14,
   "metadata": {},
   "outputs": [
    {
     "name": "stdout",
     "output_type": "stream",
     "text": [
      "enter an year2000\n",
      "2000 is a leap year\n"
     ]
    }
   ],
   "source": [
    "year = int(input(\"enter an year\"))\n",
    "if(year%4 == 0 and year%100 == 0 and year%400 == 0):\n",
    "    print(year,\"is a leap year\")\n",
    "else:\n",
    "    print(year,\"is not a leap year\")\n"
   ]
  },
  {
   "cell_type": "code",
   "execution_count": 20,
   "metadata": {},
   "outputs": [
    {
     "name": "stdout",
     "output_type": "stream",
     "text": [
      "enter the value of n10\n",
      "0\n",
      "1\n",
      "1\n",
      "2\n",
      "3\n",
      "5\n",
      "8\n",
      "13\n",
      "21\n",
      "34\n"
     ]
    }
   ],
   "source": [
    "#5. Program to display the Fibonacci sequence up to n-th term where n is provided by the user\n",
    "\n",
    "n = int(input(\"enter the value of n\"))\n",
    "a = -1\n",
    "b = 1\n",
    "def fib(a,b,n):\n",
    "    if(n == 1):\n",
    "        return 1\n",
    "    else:\n",
    "        temp = a+b\n",
    "        print(temp)\n",
    "        a = b\n",
    "        b = temp\n",
    "        fib(a,b,n-1)    \n",
    "fib(a,b,n+1)"
   ]
  },
  {
   "cell_type": "code",
   "execution_count": 18,
   "metadata": {},
   "outputs": [
    {
     "name": "stdout",
     "output_type": "stream",
     "text": [
      "enter a number153\n",
      "153 is a Armstrong number\n"
     ]
    }
   ],
   "source": [
    "#7. Python program to check if the number provided by the user is an Armstrong number or not\n",
    "\n",
    "res = 0\n",
    "num = int(input(\"enter a number\"))\n",
    "temp = num\n",
    "\n",
    "while temp>0:\n",
    "    dig = temp % 10\n",
    "    res = res+dig**3\n",
    "    temp = temp//10\n",
    "\n",
    "if(num == res):\n",
    "    print(num,\"is a Armstrong number\")\n",
    "else:\n",
    "    print(num,\"is not an Armstrong number\")\n"
   ]
  },
  {
   "cell_type": "code",
   "execution_count": 30,
   "metadata": {},
   "outputs": [
    {
     "name": "stdout",
     "output_type": "stream",
     "text": [
      "enter a number5\n",
      "1\n",
      "2\n",
      "4\n",
      "8\n",
      "16\n",
      "32\n"
     ]
    }
   ],
   "source": [
    "#8. Python Program to display the powers of 2 using anonymous function\n",
    "\n",
    "num = int(input(\"enter a number\"))\n",
    "x = 0\n",
    "res = 1\n",
    "while x<=num:\n",
    "    print(res)\n",
    "    res = res*2\n",
    "    x = x+1\n"
   ]
  }
 ],
 "metadata": {
  "kernelspec": {
   "display_name": "Python 3",
   "language": "python",
   "name": "python3"
  },
  "language_info": {
   "codemirror_mode": {
    "name": "ipython",
    "version": 3
   },
   "file_extension": ".py",
   "mimetype": "text/x-python",
   "name": "python",
   "nbconvert_exporter": "python",
   "pygments_lexer": "ipython3",
   "version": "3.6.4"
  }
 },
 "nbformat": 4,
 "nbformat_minor": 2
}
